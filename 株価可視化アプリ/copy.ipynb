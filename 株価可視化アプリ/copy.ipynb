{
 "metadata": {
  "language_info": {
   "codemirror_mode": {
    "name": "ipython",
    "version": 3
   },
   "file_extension": ".py",
   "mimetype": "text/x-python",
   "name": "python",
   "nbconvert_exporter": "python",
   "pygments_lexer": "ipython3",
   "version": "3.9.5"
  },
  "orig_nbformat": 2,
  "kernelspec": {
   "name": "python395jvsc74a57bd0dd0c0c2cc0eec92a07afc724069494f2e3e4684aad16b66d55058d58cbbdaeb9",
   "display_name": "Python 3.9.5 64-bit"
  }
 },
 "nbformat": 4,
 "nbformat_minor": 2,
 "cells": [
  {
   "cell_type": "code",
   "execution_count": 39,
   "metadata": {},
   "outputs": [],
   "source": [
    "import pandas as pd\n",
    "import matplotlib.pyplot as plt\n",
    "import yfinance as yf\n",
    "%matplotlib inline"
   ]
  },
  {
   "cell_type": "code",
   "execution_count": 40,
   "metadata": {},
   "outputs": [],
   "source": [
    "aapl = yf.Ticker('AAPL')"
   ]
  },
  {
   "cell_type": "code",
   "execution_count": 21,
   "metadata": {},
   "outputs": [
    {
     "output_type": "execute_result",
     "data": {
      "text/plain": [
       "                  Open        High         Low       Close     Volume  \\\n",
       "Date                                                                    \n",
       "2021-04-26  134.601376  134.830982  133.333525  134.491562   66905100   \n",
       "2021-04-27  134.781053  135.180384  133.882585  134.162109   66015800   \n",
       "2021-04-28  134.082243  134.791046  132.854333  133.353485  107760100   \n",
       "2021-04-29  136.238598  136.837586  132.225410  133.253662  151101000   \n",
       "2021-04-30  131.556541  133.333521  130.847753  131.237091  109713200   \n",
       "2021-05-03  131.816094  133.842666  131.606459  132.315247   75135100   \n",
       "2021-05-04  130.967542  131.267036  126.485150  127.633202  137564700   \n",
       "2021-05-05  128.980915  130.228796  127.753005  127.882790   84000900   \n",
       "2021-05-06  127.673135  129.529982  126.914422  129.520004   78128300   \n",
       "2021-05-07  130.850006  131.259995  129.479996  130.210007   78892700   \n",
       "2021-05-10  129.410004  129.539993  126.809998  126.849998   88071200   \n",
       "2021-05-11  123.500000  126.269997  122.769997  125.910004  126142800   \n",
       "2021-05-12  123.400002  124.639999  122.250000  122.769997  112172300   \n",
       "2021-05-13  124.580002  126.150002  124.260002  124.970001  105861300   \n",
       "2021-05-14  126.250000  127.889999  125.849998  127.449997   81806500   \n",
       "2021-05-17  126.820000  126.930000  125.169998  126.269997   74244600   \n",
       "2021-05-18  126.559998  126.989998  124.779999  124.849998   63342900   \n",
       "2021-05-19  123.160004  124.919998  122.860001  124.690002   92612000   \n",
       "2021-05-20  125.230003  127.720001  125.099998  127.309998   76857100   \n",
       "2021-05-21  127.820000  128.000000  125.209999  125.430000   79209300   \n",
       "\n",
       "            Dividends  Stock Splits  \n",
       "Date                                 \n",
       "2021-04-26       0.00             0  \n",
       "2021-04-27       0.00             0  \n",
       "2021-04-28       0.00             0  \n",
       "2021-04-29       0.00             0  \n",
       "2021-04-30       0.00             0  \n",
       "2021-05-03       0.00             0  \n",
       "2021-05-04       0.00             0  \n",
       "2021-05-05       0.00             0  \n",
       "2021-05-06       0.00             0  \n",
       "2021-05-07       0.22             0  \n",
       "2021-05-10       0.00             0  \n",
       "2021-05-11       0.00             0  \n",
       "2021-05-12       0.00             0  \n",
       "2021-05-13       0.00             0  \n",
       "2021-05-14       0.00             0  \n",
       "2021-05-17       0.00             0  \n",
       "2021-05-18       0.00             0  \n",
       "2021-05-19       0.00             0  \n",
       "2021-05-20       0.00             0  \n",
       "2021-05-21       0.00             0  "
      ],
      "text/html": "<div>\n<style scoped>\n    .dataframe tbody tr th:only-of-type {\n        vertical-align: middle;\n    }\n\n    .dataframe tbody tr th {\n        vertical-align: top;\n    }\n\n    .dataframe thead th {\n        text-align: right;\n    }\n</style>\n<table border=\"1\" class=\"dataframe\">\n  <thead>\n    <tr style=\"text-align: right;\">\n      <th></th>\n      <th>Open</th>\n      <th>High</th>\n      <th>Low</th>\n      <th>Close</th>\n      <th>Volume</th>\n      <th>Dividends</th>\n      <th>Stock Splits</th>\n    </tr>\n    <tr>\n      <th>Date</th>\n      <th></th>\n      <th></th>\n      <th></th>\n      <th></th>\n      <th></th>\n      <th></th>\n      <th></th>\n    </tr>\n  </thead>\n  <tbody>\n    <tr>\n      <th>2021-04-26</th>\n      <td>134.601376</td>\n      <td>134.830982</td>\n      <td>133.333525</td>\n      <td>134.491562</td>\n      <td>66905100</td>\n      <td>0.00</td>\n      <td>0</td>\n    </tr>\n    <tr>\n      <th>2021-04-27</th>\n      <td>134.781053</td>\n      <td>135.180384</td>\n      <td>133.882585</td>\n      <td>134.162109</td>\n      <td>66015800</td>\n      <td>0.00</td>\n      <td>0</td>\n    </tr>\n    <tr>\n      <th>2021-04-28</th>\n      <td>134.082243</td>\n      <td>134.791046</td>\n      <td>132.854333</td>\n      <td>133.353485</td>\n      <td>107760100</td>\n      <td>0.00</td>\n      <td>0</td>\n    </tr>\n    <tr>\n      <th>2021-04-29</th>\n      <td>136.238598</td>\n      <td>136.837586</td>\n      <td>132.225410</td>\n      <td>133.253662</td>\n      <td>151101000</td>\n      <td>0.00</td>\n      <td>0</td>\n    </tr>\n    <tr>\n      <th>2021-04-30</th>\n      <td>131.556541</td>\n      <td>133.333521</td>\n      <td>130.847753</td>\n      <td>131.237091</td>\n      <td>109713200</td>\n      <td>0.00</td>\n      <td>0</td>\n    </tr>\n    <tr>\n      <th>2021-05-03</th>\n      <td>131.816094</td>\n      <td>133.842666</td>\n      <td>131.606459</td>\n      <td>132.315247</td>\n      <td>75135100</td>\n      <td>0.00</td>\n      <td>0</td>\n    </tr>\n    <tr>\n      <th>2021-05-04</th>\n      <td>130.967542</td>\n      <td>131.267036</td>\n      <td>126.485150</td>\n      <td>127.633202</td>\n      <td>137564700</td>\n      <td>0.00</td>\n      <td>0</td>\n    </tr>\n    <tr>\n      <th>2021-05-05</th>\n      <td>128.980915</td>\n      <td>130.228796</td>\n      <td>127.753005</td>\n      <td>127.882790</td>\n      <td>84000900</td>\n      <td>0.00</td>\n      <td>0</td>\n    </tr>\n    <tr>\n      <th>2021-05-06</th>\n      <td>127.673135</td>\n      <td>129.529982</td>\n      <td>126.914422</td>\n      <td>129.520004</td>\n      <td>78128300</td>\n      <td>0.00</td>\n      <td>0</td>\n    </tr>\n    <tr>\n      <th>2021-05-07</th>\n      <td>130.850006</td>\n      <td>131.259995</td>\n      <td>129.479996</td>\n      <td>130.210007</td>\n      <td>78892700</td>\n      <td>0.22</td>\n      <td>0</td>\n    </tr>\n    <tr>\n      <th>2021-05-10</th>\n      <td>129.410004</td>\n      <td>129.539993</td>\n      <td>126.809998</td>\n      <td>126.849998</td>\n      <td>88071200</td>\n      <td>0.00</td>\n      <td>0</td>\n    </tr>\n    <tr>\n      <th>2021-05-11</th>\n      <td>123.500000</td>\n      <td>126.269997</td>\n      <td>122.769997</td>\n      <td>125.910004</td>\n      <td>126142800</td>\n      <td>0.00</td>\n      <td>0</td>\n    </tr>\n    <tr>\n      <th>2021-05-12</th>\n      <td>123.400002</td>\n      <td>124.639999</td>\n      <td>122.250000</td>\n      <td>122.769997</td>\n      <td>112172300</td>\n      <td>0.00</td>\n      <td>0</td>\n    </tr>\n    <tr>\n      <th>2021-05-13</th>\n      <td>124.580002</td>\n      <td>126.150002</td>\n      <td>124.260002</td>\n      <td>124.970001</td>\n      <td>105861300</td>\n      <td>0.00</td>\n      <td>0</td>\n    </tr>\n    <tr>\n      <th>2021-05-14</th>\n      <td>126.250000</td>\n      <td>127.889999</td>\n      <td>125.849998</td>\n      <td>127.449997</td>\n      <td>81806500</td>\n      <td>0.00</td>\n      <td>0</td>\n    </tr>\n    <tr>\n      <th>2021-05-17</th>\n      <td>126.820000</td>\n      <td>126.930000</td>\n      <td>125.169998</td>\n      <td>126.269997</td>\n      <td>74244600</td>\n      <td>0.00</td>\n      <td>0</td>\n    </tr>\n    <tr>\n      <th>2021-05-18</th>\n      <td>126.559998</td>\n      <td>126.989998</td>\n      <td>124.779999</td>\n      <td>124.849998</td>\n      <td>63342900</td>\n      <td>0.00</td>\n      <td>0</td>\n    </tr>\n    <tr>\n      <th>2021-05-19</th>\n      <td>123.160004</td>\n      <td>124.919998</td>\n      <td>122.860001</td>\n      <td>124.690002</td>\n      <td>92612000</td>\n      <td>0.00</td>\n      <td>0</td>\n    </tr>\n    <tr>\n      <th>2021-05-20</th>\n      <td>125.230003</td>\n      <td>127.720001</td>\n      <td>125.099998</td>\n      <td>127.309998</td>\n      <td>76857100</td>\n      <td>0.00</td>\n      <td>0</td>\n    </tr>\n    <tr>\n      <th>2021-05-21</th>\n      <td>127.820000</td>\n      <td>128.000000</td>\n      <td>125.209999</td>\n      <td>125.430000</td>\n      <td>79209300</td>\n      <td>0.00</td>\n      <td>0</td>\n    </tr>\n  </tbody>\n</table>\n</div>"
     },
     "metadata": {},
     "execution_count": 21
    }
   ],
   "source": [
    "days = 20\n",
    "hist = aapl.history(period=f'{days}d')\n",
    "hist"
   ]
  },
  {
   "cell_type": "code",
   "execution_count": 41,
   "metadata": {},
   "outputs": [
    {
     "output_type": "execute_result",
     "data": {
      "text/plain": [
       "             Date       apple\n",
       "0   26 April 2021  134.491562\n",
       "1   27 April 2021  134.162109\n",
       "2   28 April 2021  133.353485\n",
       "3   29 April 2021  133.253662\n",
       "4   30 April 2021  131.237091\n",
       "5     03 May 2021  132.315247\n",
       "6     04 May 2021  127.633202\n",
       "7     05 May 2021  127.882790\n",
       "8     06 May 2021  129.520004\n",
       "9     07 May 2021  130.210007\n",
       "10    10 May 2021  126.849998\n",
       "11    11 May 2021  125.910004\n",
       "12    12 May 2021  122.769997\n",
       "13    13 May 2021  124.970001\n",
       "14    14 May 2021  127.449997\n",
       "15    17 May 2021  126.269997\n",
       "16    18 May 2021  124.849998\n",
       "17    19 May 2021  124.690002\n",
       "18    20 May 2021  127.309998\n",
       "19    21 May 2021  125.430000"
      ],
      "text/html": "<div>\n<style scoped>\n    .dataframe tbody tr th:only-of-type {\n        vertical-align: middle;\n    }\n\n    .dataframe tbody tr th {\n        vertical-align: top;\n    }\n\n    .dataframe thead th {\n        text-align: right;\n    }\n</style>\n<table border=\"1\" class=\"dataframe\">\n  <thead>\n    <tr style=\"text-align: right;\">\n      <th></th>\n      <th>Date</th>\n      <th>apple</th>\n    </tr>\n  </thead>\n  <tbody>\n    <tr>\n      <th>0</th>\n      <td>26 April 2021</td>\n      <td>134.491562</td>\n    </tr>\n    <tr>\n      <th>1</th>\n      <td>27 April 2021</td>\n      <td>134.162109</td>\n    </tr>\n    <tr>\n      <th>2</th>\n      <td>28 April 2021</td>\n      <td>133.353485</td>\n    </tr>\n    <tr>\n      <th>3</th>\n      <td>29 April 2021</td>\n      <td>133.253662</td>\n    </tr>\n    <tr>\n      <th>4</th>\n      <td>30 April 2021</td>\n      <td>131.237091</td>\n    </tr>\n    <tr>\n      <th>5</th>\n      <td>03 May 2021</td>\n      <td>132.315247</td>\n    </tr>\n    <tr>\n      <th>6</th>\n      <td>04 May 2021</td>\n      <td>127.633202</td>\n    </tr>\n    <tr>\n      <th>7</th>\n      <td>05 May 2021</td>\n      <td>127.882790</td>\n    </tr>\n    <tr>\n      <th>8</th>\n      <td>06 May 2021</td>\n      <td>129.520004</td>\n    </tr>\n    <tr>\n      <th>9</th>\n      <td>07 May 2021</td>\n      <td>130.210007</td>\n    </tr>\n    <tr>\n      <th>10</th>\n      <td>10 May 2021</td>\n      <td>126.849998</td>\n    </tr>\n    <tr>\n      <th>11</th>\n      <td>11 May 2021</td>\n      <td>125.910004</td>\n    </tr>\n    <tr>\n      <th>12</th>\n      <td>12 May 2021</td>\n      <td>122.769997</td>\n    </tr>\n    <tr>\n      <th>13</th>\n      <td>13 May 2021</td>\n      <td>124.970001</td>\n    </tr>\n    <tr>\n      <th>14</th>\n      <td>14 May 2021</td>\n      <td>127.449997</td>\n    </tr>\n    <tr>\n      <th>15</th>\n      <td>17 May 2021</td>\n      <td>126.269997</td>\n    </tr>\n    <tr>\n      <th>16</th>\n      <td>18 May 2021</td>\n      <td>124.849998</td>\n    </tr>\n    <tr>\n      <th>17</th>\n      <td>19 May 2021</td>\n      <td>124.690002</td>\n    </tr>\n    <tr>\n      <th>18</th>\n      <td>20 May 2021</td>\n      <td>127.309998</td>\n    </tr>\n    <tr>\n      <th>19</th>\n      <td>21 May 2021</td>\n      <td>125.430000</td>\n    </tr>\n  </tbody>\n</table>\n</div>"
     },
     "metadata": {},
     "execution_count": 41
    }
   ],
   "source": [
    "hist.reset_index()"
   ]
  },
  {
   "cell_type": "code",
   "execution_count": 42,
   "metadata": {},
   "outputs": [
    {
     "output_type": "execute_result",
     "data": {
      "text/plain": [
       "                    apple\n",
       "Date                     \n",
       "26 April 2021  134.491562\n",
       "27 April 2021  134.162109\n",
       "28 April 2021  133.353485"
      ],
      "text/html": "<div>\n<style scoped>\n    .dataframe tbody tr th:only-of-type {\n        vertical-align: middle;\n    }\n\n    .dataframe tbody tr th {\n        vertical-align: top;\n    }\n\n    .dataframe thead th {\n        text-align: right;\n    }\n</style>\n<table border=\"1\" class=\"dataframe\">\n  <thead>\n    <tr style=\"text-align: right;\">\n      <th></th>\n      <th>apple</th>\n    </tr>\n    <tr>\n      <th>Date</th>\n      <th></th>\n    </tr>\n  </thead>\n  <tbody>\n    <tr>\n      <th>26 April 2021</th>\n      <td>134.491562</td>\n    </tr>\n    <tr>\n      <th>27 April 2021</th>\n      <td>134.162109</td>\n    </tr>\n    <tr>\n      <th>28 April 2021</th>\n      <td>133.353485</td>\n    </tr>\n  </tbody>\n</table>\n</div>"
     },
     "metadata": {},
     "execution_count": 42
    }
   ],
   "source": [
    "hist.head(3)"
   ]
  },
  {
   "cell_type": "code",
   "execution_count": 37,
   "metadata": {},
   "outputs": [
    {
     "output_type": "error",
     "ename": "AttributeError",
     "evalue": "'Index' object has no attribute 'strftime'",
     "traceback": [
      "\u001b[1;31m---------------------------------------------------------------------------\u001b[0m",
      "\u001b[1;31mAttributeError\u001b[0m                            Traceback (most recent call last)",
      "\u001b[1;32m<ipython-input-37-b953ffe52767>\u001b[0m in \u001b[0;36m<module>\u001b[1;34m\u001b[0m\n\u001b[1;32m----> 1\u001b[1;33m \u001b[0mhist\u001b[0m\u001b[1;33m.\u001b[0m\u001b[0mindex\u001b[0m \u001b[1;33m=\u001b[0m \u001b[0mhist\u001b[0m\u001b[1;33m.\u001b[0m\u001b[0mindex\u001b[0m\u001b[1;33m.\u001b[0m\u001b[0mstrftime\u001b[0m\u001b[1;33m(\u001b[0m\u001b[1;34m'%d %B %Y'\u001b[0m\u001b[1;33m)\u001b[0m\u001b[1;33m\u001b[0m\u001b[1;33m\u001b[0m\u001b[0m\n\u001b[0m",
      "\u001b[1;31mAttributeError\u001b[0m: 'Index' object has no attribute 'strftime'"
     ]
    }
   ],
   "source": [
    "hist.index = hist.index.strftime('%d %B %Y')"
   ]
  },
  {
   "cell_type": "code",
   "execution_count": 34,
   "metadata": {},
   "outputs": [
    {
     "output_type": "execute_result",
     "data": {
      "text/plain": [
       "                    apple\n",
       "Date                     \n",
       "26 April 2021  134.491562\n",
       "27 April 2021  134.162109\n",
       "28 April 2021  133.353485\n",
       "29 April 2021  133.253662\n",
       "30 April 2021  131.237091\n",
       "03 May 2021    132.315247\n",
       "04 May 2021    127.633202\n",
       "05 May 2021    127.882790\n",
       "06 May 2021    129.520004\n",
       "07 May 2021    130.210007\n",
       "10 May 2021    126.849998\n",
       "11 May 2021    125.910004\n",
       "12 May 2021    122.769997\n",
       "13 May 2021    124.970001\n",
       "14 May 2021    127.449997\n",
       "17 May 2021    126.269997\n",
       "18 May 2021    124.849998\n",
       "19 May 2021    124.690002\n",
       "20 May 2021    127.309998\n",
       "21 May 2021    125.430000"
      ],
      "text/html": "<div>\n<style scoped>\n    .dataframe tbody tr th:only-of-type {\n        vertical-align: middle;\n    }\n\n    .dataframe tbody tr th {\n        vertical-align: top;\n    }\n\n    .dataframe thead th {\n        text-align: right;\n    }\n</style>\n<table border=\"1\" class=\"dataframe\">\n  <thead>\n    <tr style=\"text-align: right;\">\n      <th></th>\n      <th>apple</th>\n    </tr>\n    <tr>\n      <th>Date</th>\n      <th></th>\n    </tr>\n  </thead>\n  <tbody>\n    <tr>\n      <th>26 April 2021</th>\n      <td>134.491562</td>\n    </tr>\n    <tr>\n      <th>27 April 2021</th>\n      <td>134.162109</td>\n    </tr>\n    <tr>\n      <th>28 April 2021</th>\n      <td>133.353485</td>\n    </tr>\n    <tr>\n      <th>29 April 2021</th>\n      <td>133.253662</td>\n    </tr>\n    <tr>\n      <th>30 April 2021</th>\n      <td>131.237091</td>\n    </tr>\n    <tr>\n      <th>03 May 2021</th>\n      <td>132.315247</td>\n    </tr>\n    <tr>\n      <th>04 May 2021</th>\n      <td>127.633202</td>\n    </tr>\n    <tr>\n      <th>05 May 2021</th>\n      <td>127.882790</td>\n    </tr>\n    <tr>\n      <th>06 May 2021</th>\n      <td>129.520004</td>\n    </tr>\n    <tr>\n      <th>07 May 2021</th>\n      <td>130.210007</td>\n    </tr>\n    <tr>\n      <th>10 May 2021</th>\n      <td>126.849998</td>\n    </tr>\n    <tr>\n      <th>11 May 2021</th>\n      <td>125.910004</td>\n    </tr>\n    <tr>\n      <th>12 May 2021</th>\n      <td>122.769997</td>\n    </tr>\n    <tr>\n      <th>13 May 2021</th>\n      <td>124.970001</td>\n    </tr>\n    <tr>\n      <th>14 May 2021</th>\n      <td>127.449997</td>\n    </tr>\n    <tr>\n      <th>17 May 2021</th>\n      <td>126.269997</td>\n    </tr>\n    <tr>\n      <th>18 May 2021</th>\n      <td>124.849998</td>\n    </tr>\n    <tr>\n      <th>19 May 2021</th>\n      <td>124.690002</td>\n    </tr>\n    <tr>\n      <th>20 May 2021</th>\n      <td>127.309998</td>\n    </tr>\n    <tr>\n      <th>21 May 2021</th>\n      <td>125.430000</td>\n    </tr>\n  </tbody>\n</table>\n</div>"
     },
     "metadata": {},
     "execution_count": 34
    }
   ],
   "source": [
    "hist\n"
   ]
  },
  {
   "cell_type": "code",
   "execution_count": 59,
   "metadata": {},
   "outputs": [],
   "source": [
    "hist = hist.T\n",
    "hist.index.name ='Name'"
   ]
  },
  {
   "cell_type": "code",
   "execution_count": 61,
   "metadata": {},
   "outputs": [
    {
     "output_type": "execute_result",
     "data": {
      "text/plain": [
       "Name   26 April 2021  27 April 2021  28 April 2021  29 April 2021  \\\n",
       "Name                                                                \n",
       "apple     134.491562     134.162109     133.353485     133.253662   \n",
       "\n",
       "Name   30 April 2021  03 May 2021  04 May 2021  05 May 2021  06 May 2021  \\\n",
       "Name                                                                       \n",
       "apple     131.237091   132.315247   127.633202    127.88279   129.520004   \n",
       "\n",
       "Name   07 May 2021  10 May 2021  11 May 2021  12 May 2021  13 May 2021  \\\n",
       "Name                                                                     \n",
       "apple   130.210007   126.849998   125.910004   122.769997   124.970001   \n",
       "\n",
       "Name   14 May 2021  17 May 2021  18 May 2021  19 May 2021  20 May 2021  \\\n",
       "Name                                                                     \n",
       "apple   127.449997   126.269997   124.849998   124.690002   127.309998   \n",
       "\n",
       "Name   21 May 2021  \n",
       "Name                \n",
       "apple       125.43  "
      ],
      "text/html": "<div>\n<style scoped>\n    .dataframe tbody tr th:only-of-type {\n        vertical-align: middle;\n    }\n\n    .dataframe tbody tr th {\n        vertical-align: top;\n    }\n\n    .dataframe thead th {\n        text-align: right;\n    }\n</style>\n<table border=\"1\" class=\"dataframe\">\n  <thead>\n    <tr style=\"text-align: right;\">\n      <th>Name</th>\n      <th>26 April 2021</th>\n      <th>27 April 2021</th>\n      <th>28 April 2021</th>\n      <th>29 April 2021</th>\n      <th>30 April 2021</th>\n      <th>03 May 2021</th>\n      <th>04 May 2021</th>\n      <th>05 May 2021</th>\n      <th>06 May 2021</th>\n      <th>07 May 2021</th>\n      <th>10 May 2021</th>\n      <th>11 May 2021</th>\n      <th>12 May 2021</th>\n      <th>13 May 2021</th>\n      <th>14 May 2021</th>\n      <th>17 May 2021</th>\n      <th>18 May 2021</th>\n      <th>19 May 2021</th>\n      <th>20 May 2021</th>\n      <th>21 May 2021</th>\n    </tr>\n    <tr>\n      <th>Name</th>\n      <th></th>\n      <th></th>\n      <th></th>\n      <th></th>\n      <th></th>\n      <th></th>\n      <th></th>\n      <th></th>\n      <th></th>\n      <th></th>\n      <th></th>\n      <th></th>\n      <th></th>\n      <th></th>\n      <th></th>\n      <th></th>\n      <th></th>\n      <th></th>\n      <th></th>\n      <th></th>\n    </tr>\n  </thead>\n  <tbody>\n    <tr>\n      <th>apple</th>\n      <td>134.491562</td>\n      <td>134.162109</td>\n      <td>133.353485</td>\n      <td>133.253662</td>\n      <td>131.237091</td>\n      <td>132.315247</td>\n      <td>127.633202</td>\n      <td>127.88279</td>\n      <td>129.520004</td>\n      <td>130.210007</td>\n      <td>126.849998</td>\n      <td>125.910004</td>\n      <td>122.769997</td>\n      <td>124.970001</td>\n      <td>127.449997</td>\n      <td>126.269997</td>\n      <td>124.849998</td>\n      <td>124.690002</td>\n      <td>127.309998</td>\n      <td>125.43</td>\n    </tr>\n  </tbody>\n</table>\n</div>"
     },
     "metadata": {},
     "execution_count": 61
    }
   ],
   "source": [
    "hist"
   ]
  }
 ]
}